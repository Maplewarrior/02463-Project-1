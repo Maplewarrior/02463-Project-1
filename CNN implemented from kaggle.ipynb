{
 "cells": [
  {
   "cell_type": "markdown",
   "id": "756dc76c",
   "metadata": {},
   "source": [
    "# Project 1 in course 02463\n",
    "\n",
    "## Implementing Bayesian optimization for a CNN as a means to find optimal hyperparameters\n",
    "\n",
    "### The code for the CNN was heavily inspired by the following kaggle article:\n",
    "#### https://www.kaggle.com/mirhyun0508/2022-smarcle-ai-fashion-mnist-cnn\n",
    "\n"
   ]
  },
  {
   "cell_type": "markdown",
   "id": "8877e0bd",
   "metadata": {},
   "source": [
    "### Import dependencies"
   ]
  },
  {
   "cell_type": "code",
   "execution_count": 55,
   "id": "560cae94",
   "metadata": {},
   "outputs": [],
   "source": [
    "import sys\n",
    "import os\n",
    "\n",
    "import keras\n",
    "from keras.datasets import mnist\n",
    "from keras.utils import np_utils\n",
    "from keras.layers import Dense, Dropout, Flatten, Conv2D, MaxPooling2D\n",
    "from keras.callbacks import ModelCheckpoint, EarlyStopping\n",
    "from keras.models import Sequential\n",
    "\n",
    "import GPyOpt\n",
    "\n",
    "import pandas as pd\n",
    "import numpy as np\n",
    "import tensorflow as tf\n",
    "import matplotlib.pyplot as plt\n",
    "import seaborn as sns\n",
    "from timeit import default_timer as timer"
   ]
  },
  {
   "cell_type": "code",
   "execution_count": 56,
   "id": "e38088cc",
   "metadata": {},
   "outputs": [],
   "source": [
    "train = pd.read_csv('Data/fashion-mnist_train.csv')\n",
    "test = pd.read_csv('Data/fashion-mnist_test.csv')\n",
    "\n",
    "class_names = train.columns"
   ]
  },
  {
   "cell_type": "code",
   "execution_count": 57,
   "id": "072bf046",
   "metadata": {},
   "outputs": [
    {
     "name": "stdout",
     "output_type": "stream",
     "text": [
      "<class 'pandas.core.frame.DataFrame'>\n",
      "RangeIndex: 60000 entries, 0 to 59999\n",
      "Columns: 785 entries, label to pixel784\n",
      "dtypes: int64(785)\n",
      "memory usage: 359.3 MB\n"
     ]
    }
   ],
   "source": [
    "train.head()\n",
    "train.info()"
   ]
  },
  {
   "cell_type": "code",
   "execution_count": 58,
   "id": "9ac5a47a",
   "metadata": {},
   "outputs": [],
   "source": [
    "X_train = train.drop([\"label\"], axis=1)\n",
    "Y_train = train[\"label\"]\n",
    "\n",
    "X_test = test.drop([\"label\"], axis=1)\n",
    "Y_test = test[\"label\"]\n",
    "\n",
    "X_train = X_train.to_numpy()\n",
    "Y_train = Y_train.to_numpy()\n",
    "\n",
    "X_test = X_test.to_numpy()\n",
    "Y_test = Y_test.to_numpy()\n",
    "\n",
    "X_train = X_train.reshape(X_train.shape[0], 28, 28, 1).astype('float32') / 255\n",
    "X_test = X_test.reshape(X_test.shape[0], 28, 28, 1).astype('float32') / 255"
   ]
  },
  {
   "cell_type": "code",
   "execution_count": 59,
   "id": "e2f71f71",
   "metadata": {},
   "outputs": [
    {
     "data": {
      "image/png": "[encoded data removed]",
      "text/plain": [
       "<Figure size 432x288 with 1 Axes>"
      ]
     },
     "metadata": {
      "needs_background": "light"
     },
     "output_type": "display_data"
    }
   ],
   "source": [
    "# Display an image\n",
    "plt.imshow(X_train[0], cmap='Greys')\n",
    "plt.show()"
   ]
  },
  {
   "cell_type": "code",
   "execution_count": 60,
   "id": "c1b47777",
   "metadata": {},
   "outputs": [],
   "source": [
    "Y_train = np_utils.to_categorical(Y_train)\n",
    "Y_test = np_utils.to_categorical(Y_test)"
   ]
  },
  {
   "cell_type": "markdown",
   "id": "d1b947be",
   "metadata": {},
   "source": [
    "### Defining CNN class"
   ]
  },
  {
   "cell_type": "code",
   "execution_count": 79,
   "id": "d1d5ef29",
   "metadata": {},
   "outputs": [],
   "source": [
    "class CNN:\n",
    "    def __init__(self, X_train, Y_train, X_test, Y_test):\n",
    "        #self.n_epochs = n_epochs\n",
    "        #self.kernel_size = kernel_size\n",
    "        #self.learning_rate = learning_rate\n",
    "        #self.batch_size = batch_size\n",
    "        \n",
    "        self.X_train = X_train\n",
    "        self.Y_train = Y_train\n",
    "        self.X_test = X_test\n",
    "        self.Y_test = Y_test\n",
    "        \n",
    "        \n",
    "        \n",
    "    def CNNModelTrain(self, n_epochs, batch_size, kernel_size, learning_rate, summary = False):\n",
    "        \n",
    "        # The model is created\n",
    "        model = Sequential()\n",
    "        model.add(Conv2D(32, kernel_size=(kernel_size, kernel_size) , input_shape = (28, 28, 1), activation='relu'))\n",
    "        model.add(Conv2D(64, (3, 3), activation='relu'))\n",
    "        model.add(MaxPooling2D(pool_size=2))\n",
    "        model.add(Dropout(0.25))\n",
    "        model.add(Flatten())\n",
    "        model.add(Dense(128, activation='relu'))\n",
    "        model.add(Dropout(0.5))\n",
    "        model.add(Dense(10, activation='softmax'))\n",
    "\n",
    "        model.compile(loss='categorical_crossentropy', optimizer = keras.optimizers.Adam(learning_rate = learning_rate), metrics=['accuracy'])\n",
    "        \n",
    "        # Display model summary if true\n",
    "        if summary == True:\n",
    "            model.summary()\n",
    "        \n",
    "        # Train the model\n",
    "        #MODEL_DIR = './model/'\n",
    "        #if not os.path.exists(MODEL_DIR):\n",
    "        #  os.mkdir(MODEL_DIR)\n",
    "\n",
    "        #modelpath='./model/{epoch:02d}-{val_loss:.4f}.hdf5'\n",
    "        #checkpointer = ModelCheckpoint(filepath=modelpath, monitor='val_loss', verbose=1, save_best_only=True)\n",
    "        #early_stopping_callback = EarlyStopping(monitor='val_loss', patience=10)\n",
    "        \n",
    "        history = model.fit(X_train, Y_train, \n",
    "        validation_data=(X_test, Y_test), epochs=n_epochs, \n",
    "        batch_size= batch_size, verbose=1)\n",
    "        #callbacks=[early_stopping_callback, checkpointer])\n",
    "        \n",
    "        accuracies = history.history['val_accuracy']\n",
    "        return history, accuracies[-1]\n",
    "    \n",
    "    \n",
    "    def plotResults(self, history):\n",
    "        y_vacc = history.history['val_accuracy']\n",
    "\n",
    "        y_acc = history.history['accuracy']\n",
    "\n",
    "\n",
    "        x_len = np.arange(1,len(y_acc)+1, 1)\n",
    "        plt.plot(x_len, y_vacc, marker='.', c='red', label='Testset_accuracy')\n",
    "        plt.plot(x_len, y_acc, marker='.', c='blue', label='Trainset_accuracy')\n",
    "\n",
    "\n",
    "        plt.legend(loc='upper right')\n",
    "        plt.grid()\n",
    "        plt.xlabel('epoch')\n",
    "        plt.ylabel('accuracy')\n",
    "        plt.show()\n",
    "    \n",
    "        \n",
    "        "
   ]
  },
  {
   "cell_type": "markdown",
   "id": "c08bfe30",
   "metadata": {},
   "source": [
    "### Create a model and train with fixed hyperparameters (deliberately bad)\n",
    "#### The train-test dynamics are illustrated\n",
    "##### Train and test accuracy is also visualized below"
   ]
  },
  {
   "cell_type": "code",
   "execution_count": 80,
   "id": "c58241fd",
   "metadata": {},
   "outputs": [
    {
     "name": "stdout",
     "output_type": "stream",
     "text": [
      "Model: \"sequential_20\"\n",
      "_________________________________________________________________\n",
      "Layer (type)                 Output Shape              Param #   \n",
      "=================================================================\n",
      "conv2d_40 (Conv2D)           (None, 24, 24, 32)        832       \n",
      "_________________________________________________________________\n",
      "conv2d_41 (Conv2D)           (None, 22, 22, 64)        18496     \n",
      "_________________________________________________________________\n",
      "max_pooling2d_20 (MaxPooling (None, 11, 11, 64)        0         \n",
      "_________________________________________________________________\n",
      "dropout_40 (Dropout)         (None, 11, 11, 64)        0         \n",
      "_________________________________________________________________\n",
      "flatten_20 (Flatten)         (None, 7744)              0         \n",
      "_________________________________________________________________\n",
      "dense_40 (Dense)             (None, 128)               991360    \n",
      "_________________________________________________________________\n",
      "dropout_41 (Dropout)         (None, 128)               0         \n",
      "_________________________________________________________________\n",
      "dense_41 (Dense)             (None, 10)                1290      \n",
      "=================================================================\n",
      "Total params: 1,011,978\n",
      "Trainable params: 1,011,978\n",
      "Non-trainable params: 0\n",
      "_________________________________________________________________\n",
      "Epoch 1/2\n",
      "150/150 [==============================] - ETA: 0s - loss: 1.0009 - accuracy: 0.7358\n",
      "Epoch 00001: val_loss improved from inf to 0.40801, saving model to ./model\\01-0.4080.hdf5\n",
      "150/150 [==============================] - 64s 424ms/step - loss: 1.0009 - accuracy: 0.7358 - val_loss: 0.4080 - val_accuracy: 0.8490\n",
      "Epoch 2/2\n",
      "150/150 [==============================] - ETA: 0s - loss: 0.4813 - accuracy: 0.8225\n",
      "Epoch 00002: val_loss improved from 0.40801 to 0.37954, saving model to ./model\\02-0.3795.hdf5\n",
      "150/150 [==============================] - 63s 421ms/step - loss: 0.4813 - accuracy: 0.8225 - val_loss: 0.3795 - val_accuracy: 0.8591\n"
     ]
    },
    {
     "data": {
      "image/png": "[encoded data removed]",
      "text/plain": [
       "<Figure size 432x288 with 1 Axes>"
      ]
     },
     "metadata": {
      "needs_background": "light"
     },
     "output_type": "display_data"
    },
    {
     "name": "stdout",
     "output_type": "stream",
     "text": [
      "Accuracy at the last epoch: 0.8590999841690063\n",
      "Loss at the last epoch: 0.37954336404800415\n"
     ]
    }
   ],
   "source": [
    "# If you want the model to perform well set lr = 0.001 and k = 3.\n",
    "\n",
    "# Keep these values fixed if you want a decent but improvable result:\n",
    "## e = 5, lr = 0.05, k = 5, b = 400\n",
    "e = 2\n",
    "lr = 0.03\n",
    "k = 5\n",
    "b = 400\n",
    "\n",
    "\n",
    "m = CNN(X_train = X_train, Y_train = Y_train, X_test = X_test,Y_test = Y_test)\n",
    "# Create a CNN model\n",
    "hist, final_acc = m.CNNModelTrain(n_epochs = e, batch_size = b, kernel_size = k, learning_rate = lr,summary = True)\n",
    "\n",
    "\n",
    "m.plotResults(hist)\n",
    "\n",
    "\n",
    "final_loss = hist.history['val_loss'][-1]\n",
    "print(\"Accuracy at the last epoch:\", final_acc)\n",
    "print(\"Loss at the last epoch:\", final_loss)"
   ]
  },
  {
   "cell_type": "markdown",
   "id": "5f13bd3c",
   "metadata": {},
   "source": [
    "## Implementing Exhaustive Search for finding the optimal hyperparameters\n",
    "\n",
    "### Hyperparameters are defined:"
   ]
  },
  {
   "cell_type": "code",
   "execution_count": 110,
   "id": "bdbc1f77",
   "metadata": {
    "scrolled": true
   },
   "outputs": [
    {
     "name": "stdout",
     "output_type": "stream",
     "text": [
      "(0.001, 0.051000000000000004, 0.101)\n",
      "(2, 4, 6, 8, 10)\n",
      "(1, 3, 5)\n",
      "0.001\n",
      "0.051000000000000004\n",
      "0.101\n"
     ]
    }
   ],
   "source": [
    "# Learning rate:\n",
    "lr = tuple(np.arange(0.001, 0.15, 0.05, dtype = np.float64))\n",
    "# Number of epochs\n",
    "n_epochs = tuple(np.arange(2, 12, 2, dtype = np.int64))\n",
    "# Kernel sizes\n",
    "kernel_sizes = tuple(np.arange(1,7,2, dtype = np.int64))\n",
    "# batch sizes\n",
    "batch_sizes = tuple(np.arange(100,500, 100, dtype = np.int64))\n",
    "print(lr)\n",
    "print(n_epochs)\n",
    "print(kernel_sizes)\n",
    "\n",
    "\n",
    "for l in lr:\n",
    "    print(l)"
   ]
  },
  {
   "cell_type": "code",
   "execution_count": null,
   "id": "20e2955c",
   "metadata": {},
   "outputs": [
    {
     "name": "stdout",
     "output_type": "stream",
     "text": [
      "Epoch 1/2\n",
      "210/600 [=========>....................] - ETA: 1:01 - loss: 0.6470 - accuracy: 0.7725"
     ]
    }
   ],
   "source": [
    "# Record the time taken until convergence\n",
    "start = timer()\n",
    "\n",
    "final_losses = list()\n",
    "final_accs = list()\n",
    "\n",
    "optimal_hyperparams = [0,0,0,0]\n",
    "best_acc = 0\n",
    "\n",
    "\n",
    "for e in n_epochs:\n",
    "    for b in batch_sizes:\n",
    "        for k in kernel_sizes:\n",
    "            for l in lr:\n",
    "                m = CNN(X_train = X_train, Y_train = Y_train, X_test = X_test,Y_test = Y_test)\n",
    "                \n",
    "                # Create CNN model and train it\n",
    "                hist, acc = m.CNNModelTrain(n_epochs = e, batch_size = b, \n",
    "                                        kernel_size = k, learning_rate = l, summary = False)\n",
    "                \n",
    "                final_losses.append(hist.history['val_loss'][-1])\n",
    "                final_accs.append(acc)\n",
    "\n",
    "                if max(final_accs) > best_acc:\n",
    "                    best_acc = max(final_accs)\n",
    "                    optimal_hyperparams = [e, b, k, l]\n",
    "\n",
    "end = timer()\n",
    "print(\"The best accuracy was:\", max(final_accs))\n",
    "print(\"-------------------------------------------\")\n",
    "print(\"The best hyperparameters were found to be:\")\n",
    "print(\"Number of epochs:\", optimal_hyperparams[0])\n",
    "print(\"Batch size:\", optimal_hyperparams[1])\n",
    "print(\"Kernel size:\", optimal_hyperparams[2])\n",
    "print(\"Learning rate:\", optimal_hyperparams[3])\n",
    "\n",
    "print(\"It took\", end-start, \"time until convergence\")\n"
   ]
  },
  {
   "cell_type": "code",
   "execution_count": null,
   "id": "fa46e587",
   "metadata": {},
   "outputs": [],
   "source": [
    "def CNN_Model_Train( kernel_size, learning_rate, n_epochs = 5,batch_size = 300):\n",
    "    \n",
    "    # The model is created\n",
    "    model = Sequential()\n",
    "    model.add(Conv2D(32, kernel_size=(int(kernel_size), int(kernel_size)) , input_shape = (28, 28, 1), activation='relu'))\n",
    "    model.add(Conv2D(64, (3, 3), activation='relu'))\n",
    "    model.add(MaxPooling2D(pool_size=2))\n",
    "    model.add(Dropout(0.25))\n",
    "    model.add(Flatten())\n",
    "    model.add(Dense(128, activation='relu'))\n",
    "    model.add(Dropout(0.5))\n",
    "    model.add(Dense(10, activation='softmax'))\n",
    "\n",
    "    model.compile(loss='categorical_crossentropy', optimizer = keras.optimizers.Adam(learning_rate = learning_rate), metrics=['accuracy'])\n",
    "    \n",
    "    \n",
    "    # Train the model\n",
    "    MODEL_DIR = './model/'\n",
    "    if not os.path.exists(MODEL_DIR):\n",
    "        os.mkdir(MODEL_DIR)\n",
    "\n",
    "    modelpath='./model/{epoch:02d}-{val_loss:.4f}.hdf5'\n",
    "    checkpointer = ModelCheckpoint(filepath=modelpath, monitor='val_loss', verbose=1, save_best_only=True)\n",
    "    early_stopping_callback = EarlyStopping(monitor='val_loss', patience=10)\n",
    "\n",
    "    history = model.fit(X_train, Y_train, \n",
    "    validation_data=(X_test, Y_test), epochs=n_epochs, \n",
    "    batch_size= batch_size, verbose=1, \n",
    "    callbacks=[early_stopping_callback, checkpointer])\n",
    "\n",
    "    accuracies = history.history['val_accuracy']\n",
    "    return accuracies[-1]"
   ]
  },
  {
   "cell_type": "markdown",
   "id": "7145fcaa",
   "metadata": {},
   "source": [
    "## Bayesian optimization using GpyOpt\n",
    "\n",
    "#### This code is inspired by code from Exercise 4 in course 02463"
   ]
  },
  {
   "cell_type": "code",
   "execution_count": 109,
   "id": "12e90d84",
   "metadata": {},
   "outputs": [
    {
     "name": "stdout",
     "output_type": "stream",
     "text": [
      "Epoch 1/5\n",
      "200/200 [==============================] - ETA: 0s - loss: 3.3790 - accuracy: 0.5275\n",
      "Epoch 00001: val_loss improved from inf to 0.75483, saving model to ./model\\01-0.7548.hdf5\n",
      "200/200 [==============================] - 52s 259ms/step - loss: 3.3790 - accuracy: 0.5275 - val_loss: 0.7548 - val_accuracy: 0.6977\n",
      "Epoch 2/5\n",
      "200/200 [==============================] - ETA: 0s - loss: 0.8986 - accuracy: 0.6627\n",
      "Epoch 00002: val_loss improved from 0.75483 to 0.70344, saving model to ./model\\02-0.7034.hdf5\n",
      "200/200 [==============================] - 52s 259ms/step - loss: 0.8986 - accuracy: 0.6627 - val_loss: 0.7034 - val_accuracy: 0.7258\n",
      "Epoch 3/5\n",
      "200/200 [==============================] - ETA: 0s - loss: 0.8875 - accuracy: 0.6693\n",
      "Epoch 00003: val_loss improved from 0.70344 to 0.62697, saving model to ./model\\03-0.6270.hdf5\n",
      "200/200 [==============================] - 52s 259ms/step - loss: 0.8875 - accuracy: 0.6693 - val_loss: 0.6270 - val_accuracy: 0.7545\n",
      "Epoch 4/5\n",
      "200/200 [==============================] - ETA: 0s - loss: 0.8290 - accuracy: 0.6902\n",
      "Epoch 00004: val_loss did not improve from 0.62697\n",
      "200/200 [==============================] - 51s 257ms/step - loss: 0.8290 - accuracy: 0.6902 - val_loss: 0.6562 - val_accuracy: 0.7441\n",
      "Epoch 5/5\n",
      "200/200 [==============================] - ETA: 0s - loss: 0.8075 - accuracy: 0.7008\n",
      "Epoch 00005: val_loss improved from 0.62697 to 0.59837, saving model to ./model\\05-0.5984.hdf5\n",
      "200/200 [==============================] - 52s 259ms/step - loss: 0.8075 - accuracy: 0.7008 - val_loss: 0.5984 - val_accuracy: 0.7721\n",
      "Epoch 1/5\n",
      "200/200 [==============================] - ETA: 0s - loss: 4.7736 - accuracy: 0.1007\n",
      "Epoch 00001: val_loss improved from inf to 2.30786, saving model to ./model\\01-2.3079.hdf5\n",
      "200/200 [==============================] - 80s 398ms/step - loss: 4.7736 - accuracy: 0.1007 - val_loss: 2.3079 - val_accuracy: 0.1000\n",
      "Epoch 2/5\n",
      "200/200 [==============================] - ETA: 0s - loss: 2.3052 - accuracy: 0.0971\n",
      "Epoch 00002: val_loss did not improve from 2.30786\n",
      "200/200 [==============================] - 81s 405ms/step - loss: 2.3052 - accuracy: 0.0971 - val_loss: 2.3093 - val_accuracy: 0.1000\n",
      "Epoch 3/5\n",
      "200/200 [==============================] - ETA: 0s - loss: 2.3051 - accuracy: 0.1021\n",
      "Epoch 00003: val_loss improved from 2.30786 to 2.30510, saving model to ./model\\03-2.3051.hdf5\n",
      "200/200 [==============================] - 77s 384ms/step - loss: 2.3051 - accuracy: 0.1021 - val_loss: 2.3051 - val_accuracy: 0.1000\n",
      "Epoch 4/5\n",
      "200/200 [==============================] - ETA: 0s - loss: 2.3058 - accuracy: 0.1027\n",
      "Epoch 00004: val_loss did not improve from 2.30510\n",
      "200/200 [==============================] - 77s 385ms/step - loss: 2.3058 - accuracy: 0.1027 - val_loss: 2.3062 - val_accuracy: 0.1000\n",
      "Epoch 5/5\n",
      "200/200 [==============================] - ETA: 0s - loss: 2.3070 - accuracy: 0.0975\n",
      "Epoch 00005: val_loss did not improve from 2.30510\n",
      "200/200 [==============================] - 88s 438ms/step - loss: 2.3070 - accuracy: 0.0975 - val_loss: 2.3058 - val_accuracy: 0.1000\n",
      "Epoch 1/5\n",
      "200/200 [==============================] - ETA: 0s - loss: 9.6031 - accuracy: 0.1013\n",
      "Epoch 00001: val_loss improved from inf to 2.30552, saving model to ./model\\01-2.3055.hdf5\n",
      "200/200 [==============================] - 71s 357ms/step - loss: 9.6031 - accuracy: 0.1013 - val_loss: 2.3055 - val_accuracy: 0.1000\n",
      "Epoch 2/5\n",
      "200/200 [==============================] - ETA: 0s - loss: 2.3052 - accuracy: 0.0996\n",
      "Epoch 00002: val_loss improved from 2.30552 to 2.30543, saving model to ./model\\02-2.3054.hdf5\n",
      "200/200 [==============================] - 68s 342ms/step - loss: 2.3052 - accuracy: 0.0996 - val_loss: 2.3054 - val_accuracy: 0.1000\n",
      "Epoch 3/5\n",
      "200/200 [==============================] - ETA: 0s - loss: 2.3070 - accuracy: 0.0985\n",
      "Epoch 00003: val_loss did not improve from 2.30543\n",
      "200/200 [==============================] - 81s 404ms/step - loss: 2.3070 - accuracy: 0.0985 - val_loss: 2.3063 - val_accuracy: 0.1000\n",
      "Epoch 4/5\n",
      "200/200 [==============================] - ETA: 0s - loss: 2.3065 - accuracy: 0.1000\n",
      "Epoch 00004: val_loss did not improve from 2.30543\n",
      "200/200 [==============================] - 97s 484ms/step - loss: 2.3065 - accuracy: 0.1000 - val_loss: 2.3065 - val_accuracy: 0.1000\n",
      "Epoch 5/5\n",
      "200/200 [==============================] - ETA: 0s - loss: 2.3064 - accuracy: 0.1018\n",
      "Epoch 00005: val_loss improved from 2.30543 to 2.30509, saving model to ./model\\05-2.3051.hdf5\n",
      "200/200 [==============================] - 88s 439ms/step - loss: 2.3064 - accuracy: 0.1018 - val_loss: 2.3051 - val_accuracy: 0.1000\n",
      "Epoch 1/5\n",
      "200/200 [==============================] - ETA: 0s - loss: 2.8851 - accuracy: 0.0994\n",
      "Epoch 00001: val_loss improved from inf to 2.30370, saving model to ./model\\01-2.3037.hdf5\n",
      "200/200 [==============================] - 98s 490ms/step - loss: 2.8851 - accuracy: 0.0994 - val_loss: 2.3037 - val_accuracy: 0.1000\n",
      "Epoch 2/5\n",
      "155/200 [======================>.......] - ETA: 18s - loss: 2.3045 - accuracy: 0.0984"
     ]
    },
    {
     "ename": "KeyboardInterrupt",
     "evalue": "",
     "output_type": "error",
     "traceback": [
      "\u001b[1;31m---------------------------------------------------------------------------\u001b[0m",
      "\u001b[1;31mKeyboardInterrupt\u001b[0m                         Traceback (most recent call last)",
      "\u001b[1;32m~\\AppData\\Local\\Temp/ipykernel_2808/2525050484.py\u001b[0m in \u001b[0;36m<module>\u001b[1;34m\u001b[0m\n\u001b[0;32m     29\u001b[0m \u001b[0macquisition_func\u001b[0m \u001b[1;33m=\u001b[0m \u001b[1;34m\"EI\"\u001b[0m\u001b[1;33m\u001b[0m\u001b[1;33m\u001b[0m\u001b[0m\n\u001b[0;32m     30\u001b[0m \u001b[1;33m\u001b[0m\u001b[0m\n\u001b[1;32m---> 31\u001b[1;33m opt = GPyOpt.methods.BayesianOptimization(f = objective_function,   # function to optimize\n\u001b[0m\u001b[0;32m     32\u001b[0m                                               \u001b[0mdomain\u001b[0m \u001b[1;33m=\u001b[0m \u001b[0mdomain\u001b[0m\u001b[1;33m,\u001b[0m         \u001b[1;31m# box-constrains of the problem\u001b[0m\u001b[1;33m\u001b[0m\u001b[1;33m\u001b[0m\u001b[0m\n\u001b[0;32m     33\u001b[0m                                               \u001b[0macquisition_type\u001b[0m \u001b[1;33m=\u001b[0m \u001b[0macquisition_func\u001b[0m      \u001b[1;31m# Select acquisition function MPI, EI, LCB\u001b[0m\u001b[1;33m\u001b[0m\u001b[1;33m\u001b[0m\u001b[0m\n",
      "\u001b[1;32m~\\anaconda3\\lib\\site-packages\\GPyOpt\\methods\\bayesian_optimization.py\u001b[0m in \u001b[0;36m__init__\u001b[1;34m(self, f, domain, constraints, cost_withGradients, model_type, X, Y, initial_design_numdata, initial_design_type, acquisition_type, normalize_Y, exact_feval, acquisition_optimizer_type, model_update_interval, evaluator_type, batch_size, num_cores, verbosity, verbosity_model, maximize, de_duplication, **kwargs)\u001b[0m\n\u001b[0;32m    117\u001b[0m         \u001b[0mself\u001b[0m\u001b[1;33m.\u001b[0m\u001b[0minitial_design_type\u001b[0m  \u001b[1;33m=\u001b[0m \u001b[0minitial_design_type\u001b[0m\u001b[1;33m\u001b[0m\u001b[1;33m\u001b[0m\u001b[0m\n\u001b[0;32m    118\u001b[0m         \u001b[0mself\u001b[0m\u001b[1;33m.\u001b[0m\u001b[0minitial_design_numdata\u001b[0m \u001b[1;33m=\u001b[0m \u001b[0minitial_design_numdata\u001b[0m\u001b[1;33m\u001b[0m\u001b[1;33m\u001b[0m\u001b[0m\n\u001b[1;32m--> 119\u001b[1;33m         \u001b[0mself\u001b[0m\u001b[1;33m.\u001b[0m\u001b[0m_init_design_chooser\u001b[0m\u001b[1;33m(\u001b[0m\u001b[1;33m)\u001b[0m\u001b[1;33m\u001b[0m\u001b[1;33m\u001b[0m\u001b[0m\n\u001b[0m\u001b[0;32m    120\u001b[0m \u001b[1;33m\u001b[0m\u001b[0m\n\u001b[0;32m    121\u001b[0m         \u001b[1;31m# --- CHOOSE the model type. If an instance of a GPyOpt model is passed (possibly user defined), it is used.\u001b[0m\u001b[1;33m\u001b[0m\u001b[1;33m\u001b[0m\u001b[1;33m\u001b[0m\u001b[0m\n",
      "\u001b[1;32m~\\anaconda3\\lib\\site-packages\\GPyOpt\\methods\\bayesian_optimization.py\u001b[0m in \u001b[0;36m_init_design_chooser\u001b[1;34m(self)\u001b[0m\n\u001b[0;32m    193\u001b[0m         \u001b[1;32mif\u001b[0m \u001b[0mself\u001b[0m\u001b[1;33m.\u001b[0m\u001b[0mX\u001b[0m \u001b[1;32mis\u001b[0m \u001b[1;32mNone\u001b[0m\u001b[1;33m:\u001b[0m\u001b[1;33m\u001b[0m\u001b[1;33m\u001b[0m\u001b[0m\n\u001b[0;32m    194\u001b[0m             \u001b[0mself\u001b[0m\u001b[1;33m.\u001b[0m\u001b[0mX\u001b[0m \u001b[1;33m=\u001b[0m \u001b[0minitial_design\u001b[0m\u001b[1;33m(\u001b[0m\u001b[0mself\u001b[0m\u001b[1;33m.\u001b[0m\u001b[0minitial_design_type\u001b[0m\u001b[1;33m,\u001b[0m \u001b[0mself\u001b[0m\u001b[1;33m.\u001b[0m\u001b[0mspace\u001b[0m\u001b[1;33m,\u001b[0m \u001b[0mself\u001b[0m\u001b[1;33m.\u001b[0m\u001b[0minitial_design_numdata\u001b[0m\u001b[1;33m)\u001b[0m\u001b[1;33m\u001b[0m\u001b[1;33m\u001b[0m\u001b[0m\n\u001b[1;32m--> 195\u001b[1;33m             \u001b[0mself\u001b[0m\u001b[1;33m.\u001b[0m\u001b[0mY\u001b[0m\u001b[1;33m,\u001b[0m \u001b[0m_\u001b[0m \u001b[1;33m=\u001b[0m \u001b[0mself\u001b[0m\u001b[1;33m.\u001b[0m\u001b[0mobjective\u001b[0m\u001b[1;33m.\u001b[0m\u001b[0mevaluate\u001b[0m\u001b[1;33m(\u001b[0m\u001b[0mself\u001b[0m\u001b[1;33m.\u001b[0m\u001b[0mX\u001b[0m\u001b[1;33m)\u001b[0m\u001b[1;33m\u001b[0m\u001b[1;33m\u001b[0m\u001b[0m\n\u001b[0m\u001b[0;32m    196\u001b[0m         \u001b[1;31m# Case 2\u001b[0m\u001b[1;33m\u001b[0m\u001b[1;33m\u001b[0m\u001b[1;33m\u001b[0m\u001b[0m\n\u001b[0;32m    197\u001b[0m         \u001b[1;32melif\u001b[0m \u001b[0mself\u001b[0m\u001b[1;33m.\u001b[0m\u001b[0mX\u001b[0m \u001b[1;32mis\u001b[0m \u001b[1;32mnot\u001b[0m \u001b[1;32mNone\u001b[0m \u001b[1;32mand\u001b[0m \u001b[0mself\u001b[0m\u001b[1;33m.\u001b[0m\u001b[0mY\u001b[0m \u001b[1;32mis\u001b[0m \u001b[1;32mNone\u001b[0m\u001b[1;33m:\u001b[0m\u001b[1;33m\u001b[0m\u001b[1;33m\u001b[0m\u001b[0m\n",
      "\u001b[1;32m~\\anaconda3\\lib\\site-packages\\GPyOpt\\core\\task\\objective.py\u001b[0m in \u001b[0;36mevaluate\u001b[1;34m(self, x)\u001b[0m\n\u001b[0;32m     48\u001b[0m \u001b[1;33m\u001b[0m\u001b[0m\n\u001b[0;32m     49\u001b[0m         \u001b[1;32mif\u001b[0m \u001b[0mself\u001b[0m\u001b[1;33m.\u001b[0m\u001b[0mn_procs\u001b[0m \u001b[1;33m==\u001b[0m \u001b[1;36m1\u001b[0m\u001b[1;33m:\u001b[0m\u001b[1;33m\u001b[0m\u001b[1;33m\u001b[0m\u001b[0m\n\u001b[1;32m---> 50\u001b[1;33m             \u001b[0mf_evals\u001b[0m\u001b[1;33m,\u001b[0m \u001b[0mcost_evals\u001b[0m \u001b[1;33m=\u001b[0m \u001b[0mself\u001b[0m\u001b[1;33m.\u001b[0m\u001b[0m_eval_func\u001b[0m\u001b[1;33m(\u001b[0m\u001b[0mx\u001b[0m\u001b[1;33m)\u001b[0m\u001b[1;33m\u001b[0m\u001b[1;33m\u001b[0m\u001b[0m\n\u001b[0m\u001b[0;32m     51\u001b[0m         \u001b[1;32melse\u001b[0m\u001b[1;33m:\u001b[0m\u001b[1;33m\u001b[0m\u001b[1;33m\u001b[0m\u001b[0m\n\u001b[0;32m     52\u001b[0m             \u001b[1;32mtry\u001b[0m\u001b[1;33m:\u001b[0m\u001b[1;33m\u001b[0m\u001b[1;33m\u001b[0m\u001b[0m\n",
      "\u001b[1;32m~\\anaconda3\\lib\\site-packages\\GPyOpt\\core\\task\\objective.py\u001b[0m in \u001b[0;36m_eval_func\u001b[1;34m(self, x)\u001b[0m\n\u001b[0;32m     72\u001b[0m         \u001b[1;32mfor\u001b[0m \u001b[0mi\u001b[0m \u001b[1;32min\u001b[0m \u001b[0mrange\u001b[0m\u001b[1;33m(\u001b[0m\u001b[0mx\u001b[0m\u001b[1;33m.\u001b[0m\u001b[0mshape\u001b[0m\u001b[1;33m[\u001b[0m\u001b[1;36m0\u001b[0m\u001b[1;33m]\u001b[0m\u001b[1;33m)\u001b[0m\u001b[1;33m:\u001b[0m\u001b[1;33m\u001b[0m\u001b[1;33m\u001b[0m\u001b[0m\n\u001b[0;32m     73\u001b[0m             \u001b[0mst_time\u001b[0m    \u001b[1;33m=\u001b[0m \u001b[0mtime\u001b[0m\u001b[1;33m.\u001b[0m\u001b[0mtime\u001b[0m\u001b[1;33m(\u001b[0m\u001b[1;33m)\u001b[0m\u001b[1;33m\u001b[0m\u001b[1;33m\u001b[0m\u001b[0m\n\u001b[1;32m---> 74\u001b[1;33m             \u001b[0mrlt\u001b[0m \u001b[1;33m=\u001b[0m \u001b[0mself\u001b[0m\u001b[1;33m.\u001b[0m\u001b[0mfunc\u001b[0m\u001b[1;33m(\u001b[0m\u001b[0mnp\u001b[0m\u001b[1;33m.\u001b[0m\u001b[0matleast_2d\u001b[0m\u001b[1;33m(\u001b[0m\u001b[0mx\u001b[0m\u001b[1;33m[\u001b[0m\u001b[0mi\u001b[0m\u001b[1;33m]\u001b[0m\u001b[1;33m)\u001b[0m\u001b[1;33m)\u001b[0m\u001b[1;33m\u001b[0m\u001b[1;33m\u001b[0m\u001b[0m\n\u001b[0m\u001b[0;32m     75\u001b[0m             \u001b[0mf_evals\u001b[0m     \u001b[1;33m=\u001b[0m \u001b[0mnp\u001b[0m\u001b[1;33m.\u001b[0m\u001b[0mvstack\u001b[0m\u001b[1;33m(\u001b[0m\u001b[1;33m[\u001b[0m\u001b[0mf_evals\u001b[0m\u001b[1;33m,\u001b[0m\u001b[0mrlt\u001b[0m\u001b[1;33m]\u001b[0m\u001b[1;33m)\u001b[0m\u001b[1;33m\u001b[0m\u001b[1;33m\u001b[0m\u001b[0m\n\u001b[0;32m     76\u001b[0m             \u001b[0mcost_evals\u001b[0m \u001b[1;33m+=\u001b[0m \u001b[1;33m[\u001b[0m\u001b[0mtime\u001b[0m\u001b[1;33m.\u001b[0m\u001b[0mtime\u001b[0m\u001b[1;33m(\u001b[0m\u001b[1;33m)\u001b[0m\u001b[1;33m-\u001b[0m\u001b[0mst_time\u001b[0m\u001b[1;33m]\u001b[0m\u001b[1;33m\u001b[0m\u001b[1;33m\u001b[0m\u001b[0m\n",
      "\u001b[1;32m~\\AppData\\Local\\Temp/ipykernel_2808/2525050484.py\u001b[0m in \u001b[0;36mobjective_function\u001b[1;34m(x)\u001b[0m\n\u001b[0;32m     21\u001b[0m     \u001b[0mparam\u001b[0m \u001b[1;33m=\u001b[0m \u001b[0mx\u001b[0m\u001b[1;33m[\u001b[0m\u001b[1;36m0\u001b[0m\u001b[1;33m]\u001b[0m\u001b[1;33m\u001b[0m\u001b[1;33m\u001b[0m\u001b[0m\n\u001b[0;32m     22\u001b[0m \u001b[1;33m\u001b[0m\u001b[0m\n\u001b[1;32m---> 23\u001b[1;33m     \u001b[0macc\u001b[0m \u001b[1;33m=\u001b[0m \u001b[0mCNN_Model_Train\u001b[0m\u001b[1;33m(\u001b[0m\u001b[0mkernel_size\u001b[0m \u001b[1;33m=\u001b[0m \u001b[0mparam\u001b[0m\u001b[1;33m[\u001b[0m\u001b[1;36m0\u001b[0m\u001b[1;33m]\u001b[0m\u001b[1;33m,\u001b[0m \u001b[0mlearning_rate\u001b[0m \u001b[1;33m=\u001b[0m \u001b[0mparam\u001b[0m\u001b[1;33m[\u001b[0m\u001b[1;36m1\u001b[0m\u001b[1;33m]\u001b[0m\u001b[1;33m)\u001b[0m\u001b[1;33m\u001b[0m\u001b[1;33m\u001b[0m\u001b[0m\n\u001b[0m\u001b[0;32m     24\u001b[0m \u001b[1;33m\u001b[0m\u001b[0m\n\u001b[0;32m     25\u001b[0m     \u001b[1;32mreturn\u001b[0m \u001b[1;33m-\u001b[0m\u001b[0mfloat\u001b[0m\u001b[1;33m(\u001b[0m\u001b[0macc\u001b[0m\u001b[1;33m)\u001b[0m\u001b[1;33m\u001b[0m\u001b[1;33m\u001b[0m\u001b[0m\n",
      "\u001b[1;32m~\\AppData\\Local\\Temp/ipykernel_2808/751297837.py\u001b[0m in \u001b[0;36mCNN_Model_Train\u001b[1;34m(kernel_size, learning_rate, n_epochs, batch_size)\u001b[0m\n\u001b[0;32m     24\u001b[0m     \u001b[0mearly_stopping_callback\u001b[0m \u001b[1;33m=\u001b[0m \u001b[0mEarlyStopping\u001b[0m\u001b[1;33m(\u001b[0m\u001b[0mmonitor\u001b[0m\u001b[1;33m=\u001b[0m\u001b[1;34m'val_loss'\u001b[0m\u001b[1;33m,\u001b[0m \u001b[0mpatience\u001b[0m\u001b[1;33m=\u001b[0m\u001b[1;36m10\u001b[0m\u001b[1;33m)\u001b[0m\u001b[1;33m\u001b[0m\u001b[1;33m\u001b[0m\u001b[0m\n\u001b[0;32m     25\u001b[0m \u001b[1;33m\u001b[0m\u001b[0m\n\u001b[1;32m---> 26\u001b[1;33m     history = model.fit(X_train, Y_train, \n\u001b[0m\u001b[0;32m     27\u001b[0m     \u001b[0mvalidation_data\u001b[0m\u001b[1;33m=\u001b[0m\u001b[1;33m(\u001b[0m\u001b[0mX_test\u001b[0m\u001b[1;33m,\u001b[0m \u001b[0mY_test\u001b[0m\u001b[1;33m)\u001b[0m\u001b[1;33m,\u001b[0m \u001b[0mepochs\u001b[0m\u001b[1;33m=\u001b[0m\u001b[0mn_epochs\u001b[0m\u001b[1;33m,\u001b[0m\u001b[1;33m\u001b[0m\u001b[1;33m\u001b[0m\u001b[0m\n\u001b[0;32m     28\u001b[0m     \u001b[0mbatch_size\u001b[0m\u001b[1;33m=\u001b[0m \u001b[0mbatch_size\u001b[0m\u001b[1;33m,\u001b[0m \u001b[0mverbose\u001b[0m\u001b[1;33m=\u001b[0m\u001b[1;36m1\u001b[0m\u001b[1;33m,\u001b[0m\u001b[1;33m\u001b[0m\u001b[1;33m\u001b[0m\u001b[0m\n",
      "\u001b[1;32m~\\anaconda3\\lib\\site-packages\\tensorflow\\python\\keras\\engine\\training.py\u001b[0m in \u001b[0;36m_method_wrapper\u001b[1;34m(self, *args, **kwargs)\u001b[0m\n\u001b[0;32m    106\u001b[0m   \u001b[1;32mdef\u001b[0m \u001b[0m_method_wrapper\u001b[0m\u001b[1;33m(\u001b[0m\u001b[0mself\u001b[0m\u001b[1;33m,\u001b[0m \u001b[1;33m*\u001b[0m\u001b[0margs\u001b[0m\u001b[1;33m,\u001b[0m \u001b[1;33m**\u001b[0m\u001b[0mkwargs\u001b[0m\u001b[1;33m)\u001b[0m\u001b[1;33m:\u001b[0m\u001b[1;33m\u001b[0m\u001b[1;33m\u001b[0m\u001b[0m\n\u001b[0;32m    107\u001b[0m     \u001b[1;32mif\u001b[0m \u001b[1;32mnot\u001b[0m \u001b[0mself\u001b[0m\u001b[1;33m.\u001b[0m\u001b[0m_in_multi_worker_mode\u001b[0m\u001b[1;33m(\u001b[0m\u001b[1;33m)\u001b[0m\u001b[1;33m:\u001b[0m  \u001b[1;31m# pylint: disable=protected-access\u001b[0m\u001b[1;33m\u001b[0m\u001b[1;33m\u001b[0m\u001b[0m\n\u001b[1;32m--> 108\u001b[1;33m       \u001b[1;32mreturn\u001b[0m \u001b[0mmethod\u001b[0m\u001b[1;33m(\u001b[0m\u001b[0mself\u001b[0m\u001b[1;33m,\u001b[0m \u001b[1;33m*\u001b[0m\u001b[0margs\u001b[0m\u001b[1;33m,\u001b[0m \u001b[1;33m**\u001b[0m\u001b[0mkwargs\u001b[0m\u001b[1;33m)\u001b[0m\u001b[1;33m\u001b[0m\u001b[1;33m\u001b[0m\u001b[0m\n\u001b[0m\u001b[0;32m    109\u001b[0m \u001b[1;33m\u001b[0m\u001b[0m\n\u001b[0;32m    110\u001b[0m     \u001b[1;31m# Running inside `run_distribute_coordinator` already.\u001b[0m\u001b[1;33m\u001b[0m\u001b[1;33m\u001b[0m\u001b[1;33m\u001b[0m\u001b[0m\n",
      "\u001b[1;32m~\\anaconda3\\lib\\site-packages\\tensorflow\\python\\keras\\engine\\training.py\u001b[0m in \u001b[0;36mfit\u001b[1;34m(self, x, y, batch_size, epochs, verbose, callbacks, validation_split, validation_data, shuffle, class_weight, sample_weight, initial_epoch, steps_per_epoch, validation_steps, validation_batch_size, validation_freq, max_queue_size, workers, use_multiprocessing)\u001b[0m\n\u001b[0;32m   1096\u001b[0m                 batch_size=batch_size):\n\u001b[0;32m   1097\u001b[0m               \u001b[0mcallbacks\u001b[0m\u001b[1;33m.\u001b[0m\u001b[0mon_train_batch_begin\u001b[0m\u001b[1;33m(\u001b[0m\u001b[0mstep\u001b[0m\u001b[1;33m)\u001b[0m\u001b[1;33m\u001b[0m\u001b[1;33m\u001b[0m\u001b[0m\n\u001b[1;32m-> 1098\u001b[1;33m               \u001b[0mtmp_logs\u001b[0m \u001b[1;33m=\u001b[0m \u001b[0mtrain_function\u001b[0m\u001b[1;33m(\u001b[0m\u001b[0miterator\u001b[0m\u001b[1;33m)\u001b[0m\u001b[1;33m\u001b[0m\u001b[1;33m\u001b[0m\u001b[0m\n\u001b[0m\u001b[0;32m   1099\u001b[0m               \u001b[1;32mif\u001b[0m \u001b[0mdata_handler\u001b[0m\u001b[1;33m.\u001b[0m\u001b[0mshould_sync\u001b[0m\u001b[1;33m:\u001b[0m\u001b[1;33m\u001b[0m\u001b[1;33m\u001b[0m\u001b[0m\n\u001b[0;32m   1100\u001b[0m                 \u001b[0mcontext\u001b[0m\u001b[1;33m.\u001b[0m\u001b[0masync_wait\u001b[0m\u001b[1;33m(\u001b[0m\u001b[1;33m)\u001b[0m\u001b[1;33m\u001b[0m\u001b[1;33m\u001b[0m\u001b[0m\n",
      "\u001b[1;32m~\\anaconda3\\lib\\site-packages\\tensorflow\\python\\eager\\def_function.py\u001b[0m in \u001b[0;36m__call__\u001b[1;34m(self, *args, **kwds)\u001b[0m\n\u001b[0;32m    778\u001b[0m       \u001b[1;32melse\u001b[0m\u001b[1;33m:\u001b[0m\u001b[1;33m\u001b[0m\u001b[1;33m\u001b[0m\u001b[0m\n\u001b[0;32m    779\u001b[0m         \u001b[0mcompiler\u001b[0m \u001b[1;33m=\u001b[0m \u001b[1;34m\"nonXla\"\u001b[0m\u001b[1;33m\u001b[0m\u001b[1;33m\u001b[0m\u001b[0m\n\u001b[1;32m--> 780\u001b[1;33m         \u001b[0mresult\u001b[0m \u001b[1;33m=\u001b[0m \u001b[0mself\u001b[0m\u001b[1;33m.\u001b[0m\u001b[0m_call\u001b[0m\u001b[1;33m(\u001b[0m\u001b[1;33m*\u001b[0m\u001b[0margs\u001b[0m\u001b[1;33m,\u001b[0m \u001b[1;33m**\u001b[0m\u001b[0mkwds\u001b[0m\u001b[1;33m)\u001b[0m\u001b[1;33m\u001b[0m\u001b[1;33m\u001b[0m\u001b[0m\n\u001b[0m\u001b[0;32m    781\u001b[0m \u001b[1;33m\u001b[0m\u001b[0m\n\u001b[0;32m    782\u001b[0m       \u001b[0mnew_tracing_count\u001b[0m \u001b[1;33m=\u001b[0m \u001b[0mself\u001b[0m\u001b[1;33m.\u001b[0m\u001b[0m_get_tracing_count\u001b[0m\u001b[1;33m(\u001b[0m\u001b[1;33m)\u001b[0m\u001b[1;33m\u001b[0m\u001b[1;33m\u001b[0m\u001b[0m\n",
      "\u001b[1;32m~\\anaconda3\\lib\\site-packages\\tensorflow\\python\\eager\\def_function.py\u001b[0m in \u001b[0;36m_call\u001b[1;34m(self, *args, **kwds)\u001b[0m\n\u001b[0;32m    805\u001b[0m       \u001b[1;31m# In this case we have created variables on the first call, so we run the\u001b[0m\u001b[1;33m\u001b[0m\u001b[1;33m\u001b[0m\u001b[1;33m\u001b[0m\u001b[0m\n\u001b[0;32m    806\u001b[0m       \u001b[1;31m# defunned version which is guaranteed to never create variables.\u001b[0m\u001b[1;33m\u001b[0m\u001b[1;33m\u001b[0m\u001b[1;33m\u001b[0m\u001b[0m\n\u001b[1;32m--> 807\u001b[1;33m       \u001b[1;32mreturn\u001b[0m \u001b[0mself\u001b[0m\u001b[1;33m.\u001b[0m\u001b[0m_stateless_fn\u001b[0m\u001b[1;33m(\u001b[0m\u001b[1;33m*\u001b[0m\u001b[0margs\u001b[0m\u001b[1;33m,\u001b[0m \u001b[1;33m**\u001b[0m\u001b[0mkwds\u001b[0m\u001b[1;33m)\u001b[0m  \u001b[1;31m# pylint: disable=not-callable\u001b[0m\u001b[1;33m\u001b[0m\u001b[1;33m\u001b[0m\u001b[0m\n\u001b[0m\u001b[0;32m    808\u001b[0m     \u001b[1;32melif\u001b[0m \u001b[0mself\u001b[0m\u001b[1;33m.\u001b[0m\u001b[0m_stateful_fn\u001b[0m \u001b[1;32mis\u001b[0m \u001b[1;32mnot\u001b[0m \u001b[1;32mNone\u001b[0m\u001b[1;33m:\u001b[0m\u001b[1;33m\u001b[0m\u001b[1;33m\u001b[0m\u001b[0m\n\u001b[0;32m    809\u001b[0m       \u001b[1;31m# Release the lock early so that multiple threads can perform the call\u001b[0m\u001b[1;33m\u001b[0m\u001b[1;33m\u001b[0m\u001b[1;33m\u001b[0m\u001b[0m\n",
      "\u001b[1;32m~\\anaconda3\\lib\\site-packages\\tensorflow\\python\\eager\\function.py\u001b[0m in \u001b[0;36m__call__\u001b[1;34m(self, *args, **kwargs)\u001b[0m\n\u001b[0;32m   2827\u001b[0m     \u001b[1;32mwith\u001b[0m \u001b[0mself\u001b[0m\u001b[1;33m.\u001b[0m\u001b[0m_lock\u001b[0m\u001b[1;33m:\u001b[0m\u001b[1;33m\u001b[0m\u001b[1;33m\u001b[0m\u001b[0m\n\u001b[0;32m   2828\u001b[0m       \u001b[0mgraph_function\u001b[0m\u001b[1;33m,\u001b[0m \u001b[0margs\u001b[0m\u001b[1;33m,\u001b[0m \u001b[0mkwargs\u001b[0m \u001b[1;33m=\u001b[0m \u001b[0mself\u001b[0m\u001b[1;33m.\u001b[0m\u001b[0m_maybe_define_function\u001b[0m\u001b[1;33m(\u001b[0m\u001b[0margs\u001b[0m\u001b[1;33m,\u001b[0m \u001b[0mkwargs\u001b[0m\u001b[1;33m)\u001b[0m\u001b[1;33m\u001b[0m\u001b[1;33m\u001b[0m\u001b[0m\n\u001b[1;32m-> 2829\u001b[1;33m     \u001b[1;32mreturn\u001b[0m \u001b[0mgraph_function\u001b[0m\u001b[1;33m.\u001b[0m\u001b[0m_filtered_call\u001b[0m\u001b[1;33m(\u001b[0m\u001b[0margs\u001b[0m\u001b[1;33m,\u001b[0m \u001b[0mkwargs\u001b[0m\u001b[1;33m)\u001b[0m  \u001b[1;31m# pylint: disable=protected-access\u001b[0m\u001b[1;33m\u001b[0m\u001b[1;33m\u001b[0m\u001b[0m\n\u001b[0m\u001b[0;32m   2830\u001b[0m \u001b[1;33m\u001b[0m\u001b[0m\n\u001b[0;32m   2831\u001b[0m   \u001b[1;33m@\u001b[0m\u001b[0mproperty\u001b[0m\u001b[1;33m\u001b[0m\u001b[1;33m\u001b[0m\u001b[0m\n",
      "\u001b[1;32m~\\anaconda3\\lib\\site-packages\\tensorflow\\python\\eager\\function.py\u001b[0m in \u001b[0;36m_filtered_call\u001b[1;34m(self, args, kwargs, cancellation_manager)\u001b[0m\n\u001b[0;32m   1841\u001b[0m       \u001b[0;31m`\u001b[0m\u001b[0margs\u001b[0m\u001b[0;31m`\u001b[0m \u001b[1;32mand\u001b[0m\u001b[0;31m \u001b[0m\u001b[0;31m`\u001b[0m\u001b[0mkwargs\u001b[0m\u001b[0;31m`\u001b[0m\u001b[1;33m.\u001b[0m\u001b[1;33m\u001b[0m\u001b[1;33m\u001b[0m\u001b[0m\n\u001b[0;32m   1842\u001b[0m     \"\"\"\n\u001b[1;32m-> 1843\u001b[1;33m     return self._call_flat(\n\u001b[0m\u001b[0;32m   1844\u001b[0m         [t for t in nest.flatten((args, kwargs), expand_composites=True)\n\u001b[0;32m   1845\u001b[0m          if isinstance(t, (ops.Tensor,\n",
      "\u001b[1;32m~\\anaconda3\\lib\\site-packages\\tensorflow\\python\\eager\\function.py\u001b[0m in \u001b[0;36m_call_flat\u001b[1;34m(self, args, captured_inputs, cancellation_manager)\u001b[0m\n\u001b[0;32m   1921\u001b[0m         and executing_eagerly):\n\u001b[0;32m   1922\u001b[0m       \u001b[1;31m# No tape is watching; skip to running the function.\u001b[0m\u001b[1;33m\u001b[0m\u001b[1;33m\u001b[0m\u001b[1;33m\u001b[0m\u001b[0m\n\u001b[1;32m-> 1923\u001b[1;33m       return self._build_call_outputs(self._inference_function.call(\n\u001b[0m\u001b[0;32m   1924\u001b[0m           ctx, args, cancellation_manager=cancellation_manager))\n\u001b[0;32m   1925\u001b[0m     forward_backward = self._select_forward_and_backward_functions(\n",
      "\u001b[1;32m~\\anaconda3\\lib\\site-packages\\tensorflow\\python\\eager\\function.py\u001b[0m in \u001b[0;36mcall\u001b[1;34m(self, ctx, args, cancellation_manager)\u001b[0m\n\u001b[0;32m    543\u001b[0m       \u001b[1;32mwith\u001b[0m \u001b[0m_InterpolateFunctionError\u001b[0m\u001b[1;33m(\u001b[0m\u001b[0mself\u001b[0m\u001b[1;33m)\u001b[0m\u001b[1;33m:\u001b[0m\u001b[1;33m\u001b[0m\u001b[1;33m\u001b[0m\u001b[0m\n\u001b[0;32m    544\u001b[0m         \u001b[1;32mif\u001b[0m \u001b[0mcancellation_manager\u001b[0m \u001b[1;32mis\u001b[0m \u001b[1;32mNone\u001b[0m\u001b[1;33m:\u001b[0m\u001b[1;33m\u001b[0m\u001b[1;33m\u001b[0m\u001b[0m\n\u001b[1;32m--> 545\u001b[1;33m           outputs = execute.execute(\n\u001b[0m\u001b[0;32m    546\u001b[0m               \u001b[0mstr\u001b[0m\u001b[1;33m(\u001b[0m\u001b[0mself\u001b[0m\u001b[1;33m.\u001b[0m\u001b[0msignature\u001b[0m\u001b[1;33m.\u001b[0m\u001b[0mname\u001b[0m\u001b[1;33m)\u001b[0m\u001b[1;33m,\u001b[0m\u001b[1;33m\u001b[0m\u001b[1;33m\u001b[0m\u001b[0m\n\u001b[0;32m    547\u001b[0m               \u001b[0mnum_outputs\u001b[0m\u001b[1;33m=\u001b[0m\u001b[0mself\u001b[0m\u001b[1;33m.\u001b[0m\u001b[0m_num_outputs\u001b[0m\u001b[1;33m,\u001b[0m\u001b[1;33m\u001b[0m\u001b[1;33m\u001b[0m\u001b[0m\n",
      "\u001b[1;32m~\\anaconda3\\lib\\site-packages\\tensorflow\\python\\eager\\execute.py\u001b[0m in \u001b[0;36mquick_execute\u001b[1;34m(op_name, num_outputs, inputs, attrs, ctx, name)\u001b[0m\n\u001b[0;32m     57\u001b[0m   \u001b[1;32mtry\u001b[0m\u001b[1;33m:\u001b[0m\u001b[1;33m\u001b[0m\u001b[1;33m\u001b[0m\u001b[0m\n\u001b[0;32m     58\u001b[0m     \u001b[0mctx\u001b[0m\u001b[1;33m.\u001b[0m\u001b[0mensure_initialized\u001b[0m\u001b[1;33m(\u001b[0m\u001b[1;33m)\u001b[0m\u001b[1;33m\u001b[0m\u001b[1;33m\u001b[0m\u001b[0m\n\u001b[1;32m---> 59\u001b[1;33m     tensors = pywrap_tfe.TFE_Py_Execute(ctx._handle, device_name, op_name,\n\u001b[0m\u001b[0;32m     60\u001b[0m                                         inputs, attrs, num_outputs)\n\u001b[0;32m     61\u001b[0m   \u001b[1;32mexcept\u001b[0m \u001b[0mcore\u001b[0m\u001b[1;33m.\u001b[0m\u001b[0m_NotOkStatusException\u001b[0m \u001b[1;32mas\u001b[0m \u001b[0me\u001b[0m\u001b[1;33m:\u001b[0m\u001b[1;33m\u001b[0m\u001b[1;33m\u001b[0m\u001b[0m\n",
      "\u001b[1;31mKeyboardInterrupt\u001b[0m: "
     ]
    }
   ],
   "source": [
    "start = timer()\n",
    "\n",
    "# Same hyperparameters as before:\n",
    "## Learning rate:\n",
    "lr = tuple(np.arange(0.001, 0.15, 0.05, dtype = np.float64))\n",
    "## Number of epochs\n",
    "n_epochs = tuple(np.arange(2, 12, 2, dtype = np.int64))\n",
    "## Kernel sizes\n",
    "kernel_sizes = tuple(np.arange(1,8,2, dtype = np.int64))\n",
    "## batch sizes\n",
    "batch_sizes = tuple(np.arange(100,500, 100, dtype = np.int64))\n",
    "\n",
    "\n",
    "domain = [{'name': 'kernel_sizes', 'type': 'discrete', 'domain': kernel_sizes},\n",
    "          {'name': 'learning_rate', 'type': 'discrete', 'domain': lr},\n",
    "          {'name': 'n_epochs', 'type': 'discrete', 'domain': n_epochs},\n",
    "          {'name': 'batch_sizes', 'type': 'discrete', 'domain': batch_sizes}\n",
    "          ]\n",
    "\n",
    "def objective_function(x):\n",
    "    param = x[0]\n",
    "    \n",
    "    acc = CNN_Model_Train(kernel_size = param[0], learning_rate = param[1])\n",
    "    \n",
    "    return -float(acc)\n",
    "\n",
    "\n",
    "### EI acquisition function ###\n",
    "acquisition_func = \"EI\"\n",
    "\n",
    "opt = GPyOpt.methods.BayesianOptimization(f = objective_function,   # function to optimize\n",
    "                                              domain = domain,         # box-constrains of the problem\n",
    "                                              acquisition_type = acquisition_func      # Select acquisition function MPI, EI, LCB\n",
    "                                             )\n",
    "opt.acquisition.exploration_weight=.1\n",
    "\n",
    "opt.run_optimization(max_iter = 10) \n",
    "\n",
    "x_best = opt.X[np.argmin(opt.Y)]\n",
    "\n",
    "end = timer()\n",
    "print(\"For acquisition_type: {0}\".format(acquisition_func))\n",
    "print(\"time: {0}\".format(end - start))\n",
    "print(\"The best parameters obtained: {0}\".format(x_best))\n",
    "print(\"The accuracy was: {0}\".format(-min(opt.Y)))"
   ]
  },
  {
   "cell_type": "code",
   "execution_count": null,
   "id": "329e7912",
   "metadata": {},
   "outputs": [],
   "source": []
  },
  {
   "cell_type": "code",
   "execution_count": null,
   "id": "0a72db45",
   "metadata": {},
   "outputs": [],
   "source": [
    "### MPI acquisition function ###\n",
    "acquisition_func = \"MPI\"\n",
    "\n",
    "opt = GPyOpt.methods.BayesianOptimization(f = objective_function,   # function to optimize\n",
    "                                              domain = domain,         # box-constrains of the problem\n",
    "                                              acquisition_type = acquisition_func      # Select acquisition function MPI, EI, LCB\n",
    "                                             )\n",
    "opt.acquisition.exploration_weight=.1\n",
    "\n",
    "opt.run_optimization(max_iter = 10) \n",
    "\n",
    "x_best = opt.X[np.argmin(opt.Y)]\n",
    "\n",
    "end = timer()\n",
    "print(\"For acquisition_type: {0}\".format(acquisition_func))\n",
    "print(\"time: {0}\".format(end - start))\n",
    "print(\"The best parameters obtained: {0}\".format(x_best))\n",
    "print(\"The loss was: {0}\".format(min(opt.Y)))\n",
    "\n",
    "\n",
    "\n",
    "\n",
    "\n",
    "\n",
    "\n",
    "\n",
    "### MPI acquisition function ###\n",
    "acquisition_func = \"LCB\"\n",
    "\n",
    "opt = GPyOpt.methods.BayesianOptimization(f = objective_function,   # function to optimize\n",
    "                                              domain = domain,         # box-constrains of the problem\n",
    "                                              acquisition_type = acquisition_func      # Select acquisition function MPI, EI, LCB\n",
    "                                             )\n",
    "opt.acquisition.exploration_weight=.1\n",
    "\n",
    "opt.run_optimization(max_iter = 10) \n",
    "\n",
    "x_best = opt.X[np.argmin(opt.Y)]\n",
    "\n",
    "end = timer()\n",
    "print(\"For acquisition_type: {0}\".format(acquisition_func))\n",
    "print(\"time: {0}\".format(end - start))\n",
    "print(\"The best parameters obtained: {0}\".format(x_best))\n",
    "print(\"The loss was: {0}\".format(min(opt.Y)))"
   ]
  },
  {
   "cell_type": "code",
   "execution_count": null,
   "id": "6a50d030",
   "metadata": {},
   "outputs": [],
   "source": []
  }
 ],
 "metadata": {
  "kernelspec": {
   "display_name": "Python 3 (ipykernel)",
   "language": "python",
   "name": "python3"
  },
  "language_info": {
   "codemirror_mode": {
    "name": "ipython",
    "version": 3
   },
   "file_extension": ".py",
   "mimetype": "text/x-python",
   "name": "python",
   "nbconvert_exporter": "python",
   "pygments_lexer": "ipython3",
   "version": "3.8.5"
  }
 },
 "nbformat": 4,
 "nbformat_minor": 5
}
