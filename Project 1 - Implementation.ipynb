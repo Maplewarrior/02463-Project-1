{
 "cells": [
  {
   "cell_type": "markdown",
   "id": "137595e9",
   "metadata": {},
   "source": [
    "## See the ReadME for a description of the project\n",
    "\n",
    "\n",
    "### Importing dependencies"
   ]
  },
  {
   "cell_type": "code",
   "execution_count": 3,
   "id": "0c4bab19",
   "metadata": {},
   "outputs": [],
   "source": [
    "import numpy as np\n",
    "import pandas as pd"
   ]
  },
  {
   "cell_type": "code",
   "execution_count": null,
   "id": "a779a840",
   "metadata": {},
   "outputs": [],
   "source": [
    "train = pd.read_csv('Data/fashion-mnist_train.csv')\n",
    "test = pd.read_csv('Data/fashion-mnist_test.csv')\n"
   ]
  },
  {
   "cell_type": "code",
   "execution_count": null,
   "id": "6fd3a561",
   "metadata": {},
   "outputs": [],
   "source": []
  }
 ],
 "metadata": {
  "kernelspec": {
   "display_name": "Python 3 (ipykernel)",
   "language": "python",
   "name": "python3"
  },
  "language_info": {
   "codemirror_mode": {
    "name": "ipython",
    "version": 3
   },
   "file_extension": ".py",
   "mimetype": "text/x-python",
   "name": "python",
   "nbconvert_exporter": "python",
   "pygments_lexer": "ipython3",
   "version": "3.8.5"
  }
 },
 "nbformat": 4,
 "nbformat_minor": 5
}
